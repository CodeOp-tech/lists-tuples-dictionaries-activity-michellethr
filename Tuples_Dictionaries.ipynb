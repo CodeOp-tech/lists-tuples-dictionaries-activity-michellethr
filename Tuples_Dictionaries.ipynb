{
 "cells": [
  {
   "cell_type": "markdown",
   "metadata": {},
   "source": [
    "## Scoreboard"
   ]
  },
  {
   "cell_type": "markdown",
   "metadata": {},
   "source": [
    "INSTRUCTIONS:\n",
    "For this exercise we will work with a\n",
    "\"scoreboard\" for an imaginary game.\n",
    "You will be required to write functions\n",
    "that operate on the \"scoreboard\" data\n",
    "structure and compute certain results."
   ]
  },
  {
   "cell_type": "markdown",
   "metadata": {},
   "source": [
    "For these functions, the \"scoreboard\"\n",
    "will be a list of tuples, where each\n",
    "tuple is of the form (str, int)\n",
    "representing (player_name, score)\n",
    "\n",
    "For example:\n",
    "[('kewld00d1', 100), ('pumpkin', 550)]"
   ]
  },
  {
   "cell_type": "markdown",
   "metadata": {},
   "source": [
    "#### get_scores\n",
    "Create a function \"get_scores\"\n",
    "that has one parameter, the scoreboard,\n",
    "and returns a list of the same size\n",
    "with just the scores for each player\n",
    "(a list of ints)"
   ]
  },
  {
   "cell_type": "code",
   "execution_count": 33,
   "metadata": {},
   "outputs": [
    {
     "ename": "TypeError",
     "evalue": "'int' object is not subscriptable",
     "output_type": "error",
     "traceback": [
      "\u001b[0;31m---------------------------------------------------------------------------\u001b[0m",
      "\u001b[0;31mTypeError\u001b[0m                                 Traceback (most recent call last)",
      "Cell \u001b[0;32mIn[33], line 8\u001b[0m\n\u001b[1;32m      5\u001b[0m         \u001b[38;5;28;01mfor\u001b[39;00m item \u001b[38;5;129;01min\u001b[39;00m \u001b[38;5;28mlist\u001b[39m:\n\u001b[1;32m      6\u001b[0m             \u001b[38;5;28;01mreturn\u001b[39;00m item[\u001b[38;5;241m0\u001b[39m]\n\u001b[0;32m----> 8\u001b[0m \u001b[43mget_scores\u001b[49m\u001b[43m(\u001b[49m\u001b[43mscoreboard\u001b[49m\u001b[43m)\u001b[49m\n",
      "Cell \u001b[0;32mIn[33], line 6\u001b[0m, in \u001b[0;36mget_scores\u001b[0;34m(scoreboard)\u001b[0m\n\u001b[1;32m      4\u001b[0m \u001b[38;5;28;01mfor\u001b[39;00m \u001b[38;5;28mlist\u001b[39m \u001b[38;5;129;01min\u001b[39;00m scoreboard:\n\u001b[1;32m      5\u001b[0m     \u001b[38;5;28;01mfor\u001b[39;00m item \u001b[38;5;129;01min\u001b[39;00m \u001b[38;5;28mlist\u001b[39m:\n\u001b[0;32m----> 6\u001b[0m         \u001b[38;5;28;01mreturn\u001b[39;00m \u001b[43mitem\u001b[49m\u001b[43m[\u001b[49m\u001b[38;5;241;43m0\u001b[39;49m\u001b[43m]\u001b[49m\n",
      "\u001b[0;31mTypeError\u001b[0m: 'int' object is not subscriptable"
     ]
    }
   ],
   "source": [
    "scoreboard = [(27, \"badbunny\"), (18, \"rosalia\"), (19, \"rawale\"), (32, \"beckyg\"), (21, \"natyp\")]\n",
    "\n",
    "def get_scores(scoreboard):\n",
    "    for list in scoreboard:\n",
    "        for item in list:\n",
    "            return item[0]\n",
    "\n",
    "get_scores(scoreboard)"
   ]
  },
  {
   "cell_type": "markdown",
   "metadata": {},
   "source": [
    "#### top_score\n",
    "\n",
    "Create a function \"top_score\"\n",
    "that has one parameter, the scoreboard,\n",
    "and returns an int, the highest score\n",
    "on the scoreboard"
   ]
  },
  {
   "cell_type": "code",
   "execution_count": 14,
   "metadata": {},
   "outputs": [
    {
     "data": {
      "text/plain": [
       "27"
      ]
     },
     "execution_count": 14,
     "metadata": {},
     "output_type": "execute_result"
    }
   ],
   "source": [
    "def top_score(scoreboard):\n",
    "    scoreboard.sort\n",
    "    for item in scoreboard:\n",
    "        return item[0] \n",
    "\n",
    "top_score(scoreboard)"
   ]
  },
  {
   "cell_type": "markdown",
   "metadata": {},
   "source": [
    "#### top_player\n",
    "Create a function \"top_player\"\n",
    "that has one parameter, the scoreboard,\n",
    "and returns the player_name that has\n",
    "the highest score"
   ]
  },
  {
   "cell_type": "code",
   "execution_count": 34,
   "metadata": {},
   "outputs": [
    {
     "data": {
      "text/plain": [
       "'badbunny'"
      ]
     },
     "execution_count": 34,
     "metadata": {},
     "output_type": "execute_result"
    }
   ],
   "source": [
    "def top_player(scoreboard):\n",
    "    scoreboard.sort\n",
    "    for item in scoreboard:\n",
    "        return item[1] \n",
    "\n",
    "top_player(scoreboard)"
   ]
  },
  {
   "cell_type": "markdown",
   "metadata": {},
   "source": [
    "#### top_player_from_dict\n",
    "Create a function \"top_player_from_dict\"\n",
    "that has one parameter, the scoreboard,\n",
    "and returns the player_name that has\n",
    "the highest score"
   ]
  },
  {
   "cell_type": "markdown",
   "metadata": {},
   "source": [
    "Now, the \"scoreboard\"\n",
    "will be a list of dictionaries, where each\n",
    "dictionary represents information\n",
    "about a single player.\n",
    "\n",
    "The keys of the dictionary are:\n",
    "\"player\", \"score\", \"country\", \"levels\"\n",
    "\n",
    "For example, one dictionary:\n",
    "\n",
    "{\n",
    "   'player': 'tr0llhuntah',\n",
    "   'score': 200,\n",
    "   'country': 'no',\n",
    "   'levels': ['Choco Mountain', 'Rainbow Road']\n",
    "}"
   ]
  },
  {
   "cell_type": "markdown",
   "metadata": {},
   "source": [
    "#### get_good_players\n",
    "Create a function \"get_good_players\"\n",
    "that has two parameters:\n",
    "1. scoreboard\n",
    "2. an int (limit)\n",
    "\n",
    "\"get_good_players\" returns a list of\n",
    "strings, with the names of the players\n",
    "who have a score greater than or equal to\n",
    "limit."
   ]
  },
  {
   "cell_type": "markdown",
   "metadata": {},
   "source": [
    "#### top_player_by_country\n",
    "\n",
    "Create a function \"top_player_by_country\"\n",
    "that has two parameters:\n",
    "1. scoreboard\n",
    "2. a string (country)\n",
    "\n",
    "\"top_player_by_country\" returns a string\n",
    "with the name of the player with the highest\n",
    "score in the provided country."
   ]
  },
  {
   "cell_type": "markdown",
   "metadata": {},
   "source": [
    "#### most_levels_played\n",
    "\n",
    "Create a function \"most_levels_played\"\n",
    "that has one parameter: \"scoreboard\".\n",
    "and returns a tuple (str, int) with the name of\n",
    "the player that has played the most levels\n",
    "and the number of levels they played"
   ]
  },
  {
   "cell_type": "markdown",
   "metadata": {},
   "source": [
    "#### played_levels\n",
    "Create a function \"played_levels\"\n",
    "that has one parameter: \"scoreboard\".\n",
    "and returns a list of strings with the\n",
    "names of all the levels that have been\n",
    "played by any user.\n",
    "\n",
    "The list of levels can have duplicates."
   ]
  }
 ],
 "metadata": {
  "kernelspec": {
   "display_name": "Python 3 (ipykernel)",
   "language": "python",
   "name": "python3"
  },
  "language_info": {
   "codemirror_mode": {
    "name": "ipython",
    "version": 3
   },
   "file_extension": ".py",
   "mimetype": "text/x-python",
   "name": "python",
   "nbconvert_exporter": "python",
   "pygments_lexer": "ipython3",
   "version": "3.10.9"
  }
 },
 "nbformat": 4,
 "nbformat_minor": 4
}
