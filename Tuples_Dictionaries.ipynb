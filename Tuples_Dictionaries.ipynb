{
 "cells": [
  {
   "cell_type": "markdown",
   "metadata": {},
   "source": [
    "## Scoreboard"
   ]
  },
  {
   "cell_type": "markdown",
   "metadata": {},
   "source": [
    "INSTRUCTIONS:\n",
    "For this exercise we will work with a\n",
    "\"scoreboard\" for an imaginary game.\n",
    "You will be required to write functions\n",
    "that operate on the \"scoreboard\" data\n",
    "structure and compute certain results."
   ]
  },
  {
   "cell_type": "markdown",
   "metadata": {},
   "source": [
    "For these functions, the \"scoreboard\"\n",
    "will be a list of tuples, where each\n",
    "tuple is of the form (str, int)\n",
    "representing (player_name, score)\n",
    "\n",
    "For example:\n",
    "[('kewld00d1', 100), ('pumpkin', 550)]"
   ]
  },
  {
   "cell_type": "markdown",
   "metadata": {},
   "source": [
    "#### get_scores\n",
    "Create a function \"get_scores\"\n",
    "that has one parameter, the scoreboard,\n",
    "and returns a list of the same size\n",
    "with just the scores for each player\n",
    "(a list of ints)"
   ]
  },
  {
   "cell_type": "code",
   "execution_count": 15,
   "metadata": {},
   "outputs": [
    {
     "data": {
      "text/plain": [
       "[27, 18, 19, 32, 21]"
      ]
     },
     "execution_count": 15,
     "metadata": {},
     "output_type": "execute_result"
    }
   ],
   "source": [
    "def get_scores(scoreboard):\n",
    "    # we create an empty list and proceed to fill it while looping\n",
    "    scores = []\n",
    "    for score in scoreboard:\n",
    "        scores.append(score[0])\n",
    "    return scores\n",
    "\n",
    "scoreboard = [(27, \"badbunny\"), (18, \"rosalia\"), (19, \"rawale\"), (32, \"beckyg\"), (21, \"natyp\")]\n",
    "get_scores(scoreboard)"
   ]
  },
  {
   "cell_type": "markdown",
   "metadata": {},
   "source": [
    "#### top_score\n",
    "\n",
    "Create a function \"top_score\"\n",
    "that has one parameter, the scoreboard,\n",
    "and returns an int, the highest score\n",
    "on the scoreboard"
   ]
  },
  {
   "cell_type": "code",
   "execution_count": 9,
   "metadata": {},
   "outputs": [
    {
     "data": {
      "text/plain": [
       "32"
      ]
     },
     "execution_count": 9,
     "metadata": {},
     "output_type": "execute_result"
    }
   ],
   "source": [
    "def top_score(scoreboard):\n",
    "# we guess that the max score is an item we know we have and then proceed comparing and overwriting\n",
    "    max_score = scoreboard[0][0]\n",
    "    for score in scoreboard:\n",
    "        if score[0] > max_score:\n",
    "            max_score = score[0]\n",
    "    return max_score\n",
    "\n",
    "scoreboard = [(27, \"badbunny\"), (18, \"rosalia\"), (19, \"rawale\"), (32, \"beckyg\"), (21, \"natyp\")]\n",
    "top_score(scoreboard)"
   ]
  },
  {
   "cell_type": "markdown",
   "metadata": {},
   "source": [
    "#### top_player\n",
    "Create a function \"top_player\"\n",
    "that has one parameter, the scoreboard,\n",
    "and returns the player_name that has\n",
    "the highest score"
   ]
  },
  {
   "cell_type": "code",
   "execution_count": 19,
   "metadata": {},
   "outputs": [
    {
     "data": {
      "text/plain": [
       "'beckyg'"
      ]
     },
     "execution_count": 19,
     "metadata": {},
     "output_type": "execute_result"
    }
   ],
   "source": [
    "def top_player(scoreboard):\n",
    "    max_score = 0\n",
    "    # will get overwritten with the attached name once we have the max score\n",
    "    top_player_name = \"\"\n",
    "    for score in scoreboard:\n",
    "        if score[0] > max_score:\n",
    "            max_score = score[0]\n",
    "            top_player_name = score[1]\n",
    "    return top_player_name\n",
    "\n",
    "scoreboard = [(27, \"badbunny\"), (18, \"rosalia\"), (19, \"rawale\"), (32, \"beckyg\"), (21, \"natyp\")]\n",
    "top_player(scoreboard)"
   ]
  },
  {
   "cell_type": "markdown",
   "metadata": {},
   "source": [
    "#### top_player_from_dict\n",
    "Create a function \"top_player_from_dict\"\n",
    "that has one parameter, the scoreboard,\n",
    "and returns the player_name that has\n",
    "the highest score"
   ]
  },
  {
   "cell_type": "markdown",
   "metadata": {},
   "source": [
    "Now, the \"scoreboard\"\n",
    "will be a list of dictionaries, where each\n",
    "dictionary represents information\n",
    "about a single player.\n",
    "\n",
    "The keys of the dictionary are:\n",
    "\"player\", \"score\", \"country\", \"levels\"\n",
    "\n",
    "For example, one dictionary:\n",
    "\n",
    "{\n",
    "   'player': 'tr0llhuntah',\n",
    "   'score': 200,\n",
    "   'country': 'no',\n",
    "   'levels': ['Choco Mountain', 'Rainbow Road']\n",
    "}"
   ]
  },
  {
   "cell_type": "code",
   "execution_count": 22,
   "metadata": {},
   "outputs": [
    {
     "data": {
      "text/plain": [
       "'beckyg'"
      ]
     },
     "execution_count": 22,
     "metadata": {},
     "output_type": "execute_result"
    }
   ],
   "source": [
    "scoreboard = [\n",
    "    {\n",
    "        \"player\": \"badbunny\",\n",
    "        \"score\": 27,\n",
    "        \"country\": \"puerto rico\",\n",
    "        \"levels\": [\n",
    "    \"Latin Grammy Award for Best Urban Music Album\",\n",
    "    \"Latin Grammy Award for Best Urban Song\",\n",
    "    \"Billboard Music Award for Top Latin Artist\",\n",
    "    \"Billboard Music Award for Top Latin Album\",\n",
    "    \"Billboard Music Award for Top Latin Song\",\n",
    "    \"Premio Lo Nuestro for Urban Male Artist of the Year\",\n",
    "    \"Premio Lo Nuestro for Urban Album of the Year\",\n",
    "    \"Premio Lo Nuestro for Urban Song of the Year\",\n",
    "]\n",
    "    },\n",
    "    {\n",
    "        \"player\": \"rosalia\",\n",
    "        \"score\": 18,\n",
    "        \"country\": \"españa\",\n",
    "        \"levels\": [\n",
    "    \"Latin Grammy Award for Best New Artist\",\n",
    "    \"Latin Grammy Award for Best Urban Fusion/Performance\",\n",
    "    \"Latin Grammy Award for Best Alternative Song\",\n",
    "    \"MTV Europe Music Award for Best Spanish Act\",\n",
    "    \"MTV Europe Music Award for Best New Artist\",\n",
    "    \"MTV Europe Music Award for Best Collaboration\",\n",
    "    \"MTV Video Music Award for Best New Artist\",\n",
    "    \"Billboard Latin Music Award for Best New Artist\",\n",
    "    \"Billboard Music Award for Top Female Artist\",\n",
    "    \"Premio Lo Nuestro for Urban Female Artist of the Year\",\n",
    "    \"Premio Lo Nuestro for Urban Collaboration of the Year\",\n",
    "]\n",
    "    },\n",
    "    {\n",
    "        \"player\": \"rawale\",\n",
    "        \"score\": 19,\n",
    "        \"country\": \"puerto rico\",\n",
    "        \"levels\": [\n",
    "    \"Latin Grammy Award for Best Urban Music Album\",\n",
    "    \"Billboard Latin Music Award for Latin Rhythm Artist of the Year\",\n",
    "    \"Billboard Latin Music Award for Latin Rhythm Album of the Year\",\n",
    "    \"Premio Lo Nuestro for Urban Male Artist of the Year\",\n",
    "    \"Premio Lo Nuestro for Urban Song of the Year\",\n",
    "]\n",
    "    },\n",
    "    {\n",
    "        \"player\": \"beckyg\",\n",
    "        \"score\": 32,\n",
    "        \"country\": \"colombia\",\n",
    "        \"levels\": [\n",
    "    \"Latin American Music Award for Favorite Female Artist\",\n",
    "    \"Premio Lo Nuestro for Urban Female Artist of the Year\",\n",
    "    \"Premio Lo Nuestro for Urban Song of the Year\",\n",
    "    \"Premio Juventud for Breakthrough Artist\",\n",
    "    \"Billboard Latin Music Award for Social Artist of the Year\",\n",
    "]\n",
    "    },\n",
    "    {\n",
    "        \"player\": \"natyp\",\n",
    "        \"score\": 21,\n",
    "        \"country\": \"argentina\",\n",
    "        \"levels\": [\n",
    "    \"Premio Lo Nuestro for Best New Latin Artist\",\n",
    "    \"Premio Lo Nuestro for Urban Female Artist of the Year\",\n",
    "]\n",
    "    }\n",
    "]\n",
    "\n",
    "# cooler way\n",
    "\n",
    "def get_score(player):\n",
    "    return player['score']\n",
    "\n",
    "def top_player_from_dict(scoreboard):\n",
    "    return max(scoreboard, key=get_score)['player']\n",
    "\n",
    "top_player_from_dict(scoreboard)"
   ]
  },
  {
   "cell_type": "markdown",
   "metadata": {},
   "source": [
    "#### get_good_players\n",
    "Create a function \"get_good_players\"\n",
    "that has two parameters:\n",
    "1. scoreboard\n",
    "2. an int (limit)\n",
    "\n",
    "\"get_good_players\" returns a list of\n",
    "strings, with the names of the players\n",
    "who have a score greater than or equal to\n",
    "limit."
   ]
  },
  {
   "cell_type": "code",
   "execution_count": 8,
   "metadata": {},
   "outputs": [
    {
     "data": {
      "text/plain": [
       "'beckyg'"
      ]
     },
     "execution_count": 8,
     "metadata": {},
     "output_type": "execute_result"
    }
   ],
   "source": [
    "scoreboard = [\n",
    "    {\n",
    "        \"player\": \"badbunny\",\n",
    "        \"score\": 27,\n",
    "        \"country\": \"puerto rico\",\n",
    "        \"levels\": [\n",
    "    \"Latin Grammy Award for Best Urban Music Album\",\n",
    "    \"Latin Grammy Award for Best Urban Song\",\n",
    "    \"Billboard Music Award for Top Latin Artist\",\n",
    "    \"Billboard Music Award for Top Latin Album\",\n",
    "    \"Billboard Music Award for Top Latin Song\",\n",
    "    \"Premio Lo Nuestro for Urban Male Artist of the Year\",\n",
    "    \"Premio Lo Nuestro for Urban Album of the Year\",\n",
    "    \"Premio Lo Nuestro for Urban Song of the Year\",\n",
    "]\n",
    "    },\n",
    "    {\n",
    "        \"player\": \"rosalia\",\n",
    "        \"score\": 18,\n",
    "        \"country\": \"españa\",\n",
    "        \"levels\": [\n",
    "    \"Latin Grammy Award for Best New Artist\",\n",
    "    \"Latin Grammy Award for Best Urban Fusion/Performance\",\n",
    "    \"Latin Grammy Award for Best Alternative Song\",\n",
    "    \"MTV Europe Music Award for Best Spanish Act\",\n",
    "    \"MTV Europe Music Award for Best New Artist\",\n",
    "    \"MTV Europe Music Award for Best Collaboration\",\n",
    "    \"MTV Video Music Award for Best New Artist\",\n",
    "    \"Billboard Latin Music Award for Best New Artist\",\n",
    "    \"Billboard Music Award for Top Female Artist\",\n",
    "    \"Premio Lo Nuestro for Urban Female Artist of the Year\",\n",
    "    \"Premio Lo Nuestro for Urban Collaboration of the Year\",\n",
    "]\n",
    "    },\n",
    "    {\n",
    "        \"player\": \"rawale\",\n",
    "        \"score\": 19,\n",
    "        \"country\": \"puerto rico\",\n",
    "        \"levels\": [\n",
    "    \"Latin Grammy Award for Best Urban Music Album\",\n",
    "    \"Billboard Latin Music Award for Latin Rhythm Artist of the Year\",\n",
    "    \"Billboard Latin Music Award for Latin Rhythm Album of the Year\",\n",
    "    \"Premio Lo Nuestro for Urban Male Artist of the Year\",\n",
    "    \"Premio Lo Nuestro for Urban Song of the Year\",\n",
    "]\n",
    "    },\n",
    "    {\n",
    "        \"player\": \"beckyg\",\n",
    "        \"score\": 32,\n",
    "        \"country\": \"colombia\",\n",
    "        \"levels\": [\n",
    "    \"Latin American Music Award for Favorite Female Artist\",\n",
    "    \"Premio Lo Nuestro for Urban Female Artist of the Year\",\n",
    "    \"Premio Lo Nuestro for Urban Song of the Year\",\n",
    "    \"Premio Juventud for Breakthrough Artist\",\n",
    "    \"Billboard Latin Music Award for Social Artist of the Year\",\n",
    "]\n",
    "    },\n",
    "    {\n",
    "        \"player\": \"natyp\",\n",
    "        \"score\": 21,\n",
    "        \"country\": \"argentina\",\n",
    "        \"levels\": [\n",
    "    \"Premio Lo Nuestro for Best New Latin Artist\",\n",
    "    \"Premio Lo Nuestro for Urban Female Artist of the Year\",\n",
    "]\n",
    "    }\n",
    "]\n",
    "\n",
    "def get_good_players(scoreboard):\n",
    "    max_score = scoreboard[0]['score']\n",
    "    top_player_name = scoreboard[0]['player']\n",
    "    # for dictionary in list of dictionaries \n",
    "    for player in scoreboard:\n",
    "        if player['score'] > max_score:\n",
    "            max_score = player['score']\n",
    "            top_player_name = player['player']\n",
    "    return top_player_name\n",
    "\n",
    "get_good_players(scoreboard)"
   ]
  },
  {
   "cell_type": "markdown",
   "metadata": {},
   "source": [
    "#### top_player_by_country\n",
    "\n",
    "Create a function \"top_player_by_country\"\n",
    "that has two parameters:\n",
    "1. scoreboard\n",
    "2. a string (country)\n",
    "\n",
    "\"top_player_by_country\" returns a string\n",
    "with the name of the player with the highest\n",
    "score in the provided country."
   ]
  },
  {
   "cell_type": "code",
   "execution_count": 17,
   "metadata": {},
   "outputs": [
    {
     "data": {
      "text/plain": [
       "'badbunny'"
      ]
     },
     "execution_count": 17,
     "metadata": {},
     "output_type": "execute_result"
    }
   ],
   "source": [
    "scoreboard = [\n",
    "    {\n",
    "        \"player\": \"badbunny\",\n",
    "        \"score\": 27,\n",
    "        \"country\": \"puerto rico\",\n",
    "        \"levels\": [\n",
    "    \"Latin Grammy Award for Best Urban Music Album\",\n",
    "    \"Latin Grammy Award for Best Urban Song\",\n",
    "    \"Billboard Music Award for Top Latin Artist\",\n",
    "    \"Billboard Music Award for Top Latin Album\",\n",
    "    \"Billboard Music Award for Top Latin Song\",\n",
    "    \"Premio Lo Nuestro for Urban Male Artist of the Year\",\n",
    "    \"Premio Lo Nuestro for Urban Album of the Year\",\n",
    "    \"Premio Lo Nuestro for Urban Song of the Year\",\n",
    "]\n",
    "    },\n",
    "    {\n",
    "        \"player\": \"rosalia\",\n",
    "        \"score\": 18,\n",
    "        \"country\": \"españa\",\n",
    "        \"levels\": [\n",
    "    \"Latin Grammy Award for Best New Artist\",\n",
    "    \"Latin Grammy Award for Best Urban Fusion/Performance\",\n",
    "    \"Latin Grammy Award for Best Alternative Song\",\n",
    "    \"MTV Europe Music Award for Best Spanish Act\",\n",
    "    \"MTV Europe Music Award for Best New Artist\",\n",
    "    \"MTV Europe Music Award for Best Collaboration\",\n",
    "    \"MTV Video Music Award for Best New Artist\",\n",
    "    \"Billboard Latin Music Award for Best New Artist\",\n",
    "    \"Billboard Music Award for Top Female Artist\",\n",
    "    \"Premio Lo Nuestro for Urban Female Artist of the Year\",\n",
    "    \"Premio Lo Nuestro for Urban Collaboration of the Year\",\n",
    "]\n",
    "    },\n",
    "    {\n",
    "        \"player\": \"rawale\",\n",
    "        \"score\": 19,\n",
    "        \"country\": \"puerto rico\",\n",
    "        \"levels\": [\n",
    "    \"Latin Grammy Award for Best Urban Music Album\",\n",
    "    \"Billboard Latin Music Award for Latin Rhythm Artist of the Year\",\n",
    "    \"Billboard Latin Music Award for Latin Rhythm Album of the Year\",\n",
    "    \"Premio Lo Nuestro for Urban Male Artist of the Year\",\n",
    "    \"Premio Lo Nuestro for Urban Song of the Year\",\n",
    "]\n",
    "    },\n",
    "    {\n",
    "        \"player\": \"beckyg\",\n",
    "        \"score\": 32,\n",
    "        \"country\": \"colombia\",\n",
    "        \"levels\": [\n",
    "    \"Latin American Music Award for Favorite Female Artist\",\n",
    "    \"Premio Lo Nuestro for Urban Female Artist of the Year\",\n",
    "    \"Premio Lo Nuestro for Urban Song of the Year\",\n",
    "    \"Premio Juventud for Breakthrough Artist\",\n",
    "    \"Billboard Latin Music Award for Social Artist of the Year\",\n",
    "]\n",
    "    },\n",
    "    {\n",
    "        \"player\": \"natyp\",\n",
    "        \"score\": 21,\n",
    "        \"country\": \"argentina\",\n",
    "        \"levels\": [\n",
    "    \"Premio Lo Nuestro for Best New Latin Artist\",\n",
    "    \"Premio Lo Nuestro for Urban Female Artist of the Year\",\n",
    "]\n",
    "    }\n",
    "]\n",
    "\n",
    "def top_player_by_country(scoreboard,country):\n",
    "    max_score = -1\n",
    "    top_player_name = None\n",
    "\n",
    "    for player in scoreboard:\n",
    "        if player['country']== country and player['score'] > max_score:\n",
    "            max_score = player['score']\n",
    "            top_player_name = player['player']\n",
    "    return top_player_name\n",
    "\n",
    "top_player_by_country(scoreboard,'puerto rico')"
   ]
  },
  {
   "cell_type": "markdown",
   "metadata": {},
   "source": [
    "#### most_levels_played\n",
    "\n",
    "Create a function \"most_levels_played\"\n",
    "that has one parameter: \"scoreboard\".\n",
    "and returns a tuple (str, int) with the name of\n",
    "the player that has played the most levels\n",
    "and the number of levels they played"
   ]
  },
  {
   "cell_type": "code",
   "execution_count": 18,
   "metadata": {},
   "outputs": [
    {
     "data": {
      "text/plain": [
       "'rosalia'"
      ]
     },
     "execution_count": 18,
     "metadata": {},
     "output_type": "execute_result"
    }
   ],
   "source": [
    "scoreboard = [\n",
    "    {\n",
    "        \"player\": \"badbunny\",\n",
    "        \"score\": 27,\n",
    "        \"country\": \"puerto rico\",\n",
    "        \"levels\": [\n",
    "    \"Latin Grammy Award for Best Urban Music Album\",\n",
    "    \"Latin Grammy Award for Best Urban Song\",\n",
    "    \"Billboard Music Award for Top Latin Artist\",\n",
    "    \"Billboard Music Award for Top Latin Album\",\n",
    "    \"Billboard Music Award for Top Latin Song\",\n",
    "    \"Premio Lo Nuestro for Urban Male Artist of the Year\",\n",
    "    \"Premio Lo Nuestro for Urban Album of the Year\",\n",
    "    \"Premio Lo Nuestro for Urban Song of the Year\",\n",
    "]\n",
    "    },\n",
    "    {\n",
    "        \"player\": \"rosalia\",\n",
    "        \"score\": 18,\n",
    "        \"country\": \"españa\",\n",
    "        \"levels\": [\n",
    "    \"Latin Grammy Award for Best New Artist\",\n",
    "    \"Latin Grammy Award for Best Urban Fusion/Performance\",\n",
    "    \"Latin Grammy Award for Best Alternative Song\",\n",
    "    \"MTV Europe Music Award for Best Spanish Act\",\n",
    "    \"MTV Europe Music Award for Best New Artist\",\n",
    "    \"MTV Europe Music Award for Best Collaboration\",\n",
    "    \"MTV Video Music Award for Best New Artist\",\n",
    "    \"Billboard Latin Music Award for Best New Artist\",\n",
    "    \"Billboard Music Award for Top Female Artist\",\n",
    "    \"Premio Lo Nuestro for Urban Female Artist of the Year\",\n",
    "    \"Premio Lo Nuestro for Urban Collaboration of the Year\",\n",
    "]\n",
    "    },\n",
    "    {\n",
    "        \"player\": \"rawale\",\n",
    "        \"score\": 19,\n",
    "        \"country\": \"puerto rico\",\n",
    "        \"levels\": [\n",
    "    \"Latin Grammy Award for Best Urban Music Album\",\n",
    "    \"Billboard Latin Music Award for Latin Rhythm Artist of the Year\",\n",
    "    \"Billboard Latin Music Award for Latin Rhythm Album of the Year\",\n",
    "    \"Premio Lo Nuestro for Urban Male Artist of the Year\",\n",
    "    \"Premio Lo Nuestro for Urban Song of the Year\",\n",
    "]\n",
    "    },\n",
    "    {\n",
    "        \"player\": \"beckyg\",\n",
    "        \"score\": 32,\n",
    "        \"country\": \"colombia\",\n",
    "        \"levels\": [\n",
    "    \"Latin American Music Award for Favorite Female Artist\",\n",
    "    \"Premio Lo Nuestro for Urban Female Artist of the Year\",\n",
    "    \"Premio Lo Nuestro for Urban Song of the Year\",\n",
    "    \"Premio Juventud for Breakthrough Artist\",\n",
    "    \"Billboard Latin Music Award for Social Artist of the Year\",\n",
    "]\n",
    "    },\n",
    "    {\n",
    "        \"player\": \"natyp\",\n",
    "        \"score\": 21,\n",
    "        \"country\": \"argentina\",\n",
    "        \"levels\": [\n",
    "    \"Premio Lo Nuestro for Best New Latin Artist\",\n",
    "    \"Premio Lo Nuestro for Urban Female Artist of the Year\",\n",
    "]\n",
    "    }\n",
    "]\n",
    "\n",
    "def most_levels_played(scoreboard):\n",
    "    max_levels = -1\n",
    "    top_player_name = None\n",
    "    \n",
    "    for player in scoreboard:\n",
    "        num_levels = len(player['levels'])\n",
    "        if num_levels > max_levels:\n",
    "            max_levels = num_levels\n",
    "            top_player_name = player['player']\n",
    "    \n",
    "    return top_player_name\n",
    "\n",
    "most_levels_played(scoreboard)"
   ]
  },
  {
   "cell_type": "markdown",
   "metadata": {},
   "source": [
    "#### played_levels\n",
    "Create a function \"played_levels\"\n",
    "that has one parameter: \"scoreboard\".\n",
    "and returns a list of strings with the\n",
    "names of all the levels that have been\n",
    "played by any user.\n",
    "\n",
    "The list of levels can have duplicates."
   ]
  },
  {
   "cell_type": "code",
   "execution_count": 20,
   "metadata": {},
   "outputs": [
    {
     "data": {
      "text/plain": [
       "['Latin Grammy Award for Best Urban Music Album',\n",
       " 'Latin Grammy Award for Best Urban Song',\n",
       " 'Billboard Music Award for Top Latin Artist',\n",
       " 'Billboard Music Award for Top Latin Album',\n",
       " 'Billboard Music Award for Top Latin Song',\n",
       " 'Premio Lo Nuestro for Urban Male Artist of the Year',\n",
       " 'Premio Lo Nuestro for Urban Album of the Year',\n",
       " 'Premio Lo Nuestro for Urban Song of the Year',\n",
       " 'Latin Grammy Award for Best New Artist',\n",
       " 'Latin Grammy Award for Best Urban Fusion/Performance',\n",
       " 'Latin Grammy Award for Best Alternative Song',\n",
       " 'MTV Europe Music Award for Best Spanish Act',\n",
       " 'MTV Europe Music Award for Best New Artist',\n",
       " 'MTV Europe Music Award for Best Collaboration',\n",
       " 'MTV Video Music Award for Best New Artist',\n",
       " 'Billboard Latin Music Award for Best New Artist',\n",
       " 'Billboard Music Award for Top Female Artist',\n",
       " 'Premio Lo Nuestro for Urban Female Artist of the Year',\n",
       " 'Premio Lo Nuestro for Urban Collaboration of the Year',\n",
       " 'Latin Grammy Award for Best Urban Music Album',\n",
       " 'Billboard Latin Music Award for Latin Rhythm Artist of the Year',\n",
       " 'Billboard Latin Music Award for Latin Rhythm Album of the Year',\n",
       " 'Premio Lo Nuestro for Urban Male Artist of the Year',\n",
       " 'Premio Lo Nuestro for Urban Song of the Year',\n",
       " 'Latin American Music Award for Favorite Female Artist',\n",
       " 'Premio Lo Nuestro for Urban Female Artist of the Year',\n",
       " 'Premio Lo Nuestro for Urban Song of the Year',\n",
       " 'Premio Juventud for Breakthrough Artist',\n",
       " 'Billboard Latin Music Award for Social Artist of the Year',\n",
       " 'Premio Lo Nuestro for Best New Latin Artist',\n",
       " 'Premio Lo Nuestro for Urban Female Artist of the Year']"
      ]
     },
     "execution_count": 20,
     "metadata": {},
     "output_type": "execute_result"
    }
   ],
   "source": [
    "def played_levels(scoreboard):\n",
    "    all_levels = []\n",
    "    \n",
    "    for player in scoreboard:\n",
    "        all_levels.extend(player['levels'])\n",
    "    \n",
    "    return all_levels\n",
    "\n",
    "played_levels(scoreboard)"
   ]
  }
 ],
 "metadata": {
  "kernelspec": {
   "display_name": "Python 3 (ipykernel)",
   "language": "python",
   "name": "python3"
  },
  "language_info": {
   "codemirror_mode": {
    "name": "ipython",
    "version": 3
   },
   "file_extension": ".py",
   "mimetype": "text/x-python",
   "name": "python",
   "nbconvert_exporter": "python",
   "pygments_lexer": "ipython3",
   "version": "3.10.9"
  }
 },
 "nbformat": 4,
 "nbformat_minor": 4
}
