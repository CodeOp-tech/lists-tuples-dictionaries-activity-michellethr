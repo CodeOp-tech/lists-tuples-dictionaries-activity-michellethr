{
 "cells": [
  {
   "cell_type": "markdown",
   "metadata": {},
   "source": [
    "## Scoreboard"
   ]
  },
  {
   "cell_type": "markdown",
   "metadata": {},
   "source": [
    "INSTRUCTIONS:\n",
    "For this exercise we will work with a\n",
    "\"scoreboard\" for an imaginary game.\n",
    "You will be required to write functions\n",
    "that operate on the \"scoreboard\" data\n",
    "structure and compute certain results."
   ]
  },
  {
   "cell_type": "markdown",
   "metadata": {},
   "source": [
    "For these functions, the \"scoreboard\"\n",
    "will be a list of tuples, where each\n",
    "tuple is of the form (str, int)\n",
    "representing (player_name, score)\n",
    "\n",
    "For example:\n",
    "[('kewld00d1', 100), ('pumpkin', 550)]"
   ]
  },
  {
   "cell_type": "markdown",
   "metadata": {},
   "source": [
    "#### get_scores\n",
    "Create a function \"get_scores\"\n",
    "that has one parameter, the scoreboard,\n",
    "and returns a list of the same size\n",
    "with just the scores for each player\n",
    "(a list of ints)"
   ]
  },
  {
   "cell_type": "markdown",
   "metadata": {},
   "source": [
    "#### top_score\n",
    "\n",
    "Create a function \"top_score\"\n",
    "that has one parameter, the scoreboard,\n",
    "and returns an int, the highest score\n",
    "on the scoreboard"
   ]
  },
  {
   "cell_type": "markdown",
   "metadata": {},
   "source": [
    "#### top_player\n",
    "Create a function \"top_player\"\n",
    "that has one parameter, the scoreboard,\n",
    "and returns the player_name that has\n",
    "the highest score"
   ]
  },
  {
   "cell_type": "markdown",
   "metadata": {},
   "source": [
    "#### top_player_from_dict\n",
    "Create a function \"top_player_from_dict\"\n",
    "that has one parameter, the scoreboard,\n",
    "and returns the player_name that has\n",
    "the highest score"
   ]
  },
  {
   "cell_type": "markdown",
   "metadata": {},
   "source": [
    "Now, the \"scoreboard\"\n",
    "will be a list of dictionaries, where each\n",
    "dictionary represents information\n",
    "about a single player.\n",
    "\n",
    "The keys of the dictionary are:\n",
    "\"player\", \"score\", \"country\", \"levels\"\n",
    "\n",
    "For example, one dictionary:\n",
    "\n",
    "{\n",
    "   'player': 'tr0llhuntah',\n",
    "   'score': 200,\n",
    "   'country': 'no',\n",
    "   'levels': ['Choco Mountain', 'Rainbow Road']\n",
    "}"
   ]
  },
  {
   "cell_type": "markdown",
   "metadata": {},
   "source": [
    "#### get_good_players\n",
    "Create a function \"get_good_players\"\n",
    "that has two parameters:\n",
    "1. scoreboard\n",
    "2. an int (limit)\n",
    "\n",
    "\"get_good_players\" returns a list of\n",
    "strings, with the names of the players\n",
    "who have a score greater than or equal to\n",
    "limit."
   ]
  },
  {
   "cell_type": "markdown",
   "metadata": {},
   "source": [
    "#### top_player_by_country\n",
    "\n",
    "Create a function \"top_player_by_country\"\n",
    "that has two parameters:\n",
    "1. scoreboard\n",
    "2. a string (country)\n",
    "\n",
    "\"top_player_by_country\" returns a string\n",
    "with the name of the player with the highest\n",
    "score in the provided country."
   ]
  },
  {
   "cell_type": "markdown",
   "metadata": {},
   "source": [
    "#### most_levels_played\n",
    "\n",
    "Create a function \"most_levels_played\"\n",
    "that has one parameter: \"scoreboard\".\n",
    "and returns a tuple (str, int) with the name of\n",
    "the player that has played the most levels\n",
    "and the number of levels they played"
   ]
  },
  {
   "cell_type": "markdown",
   "metadata": {},
   "source": [
    "#### played_levels\n",
    "Create a function \"played_levels\"\n",
    "that has one parameter: \"scoreboard\".\n",
    "and returns a list of strings with the\n",
    "names of all the levels that have been\n",
    "played by any user.\n",
    "\n",
    "The list of levels can have duplicates."
   ]
  }
 ],
 "metadata": {
  "kernelspec": {
   "display_name": "Python 3 (ipykernel)",
   "language": "python",
   "name": "python3"
  },
  "language_info": {
   "codemirror_mode": {
    "name": "ipython",
    "version": 3
   },
   "file_extension": ".py",
   "mimetype": "text/x-python",
   "name": "python",
   "nbconvert_exporter": "python",
   "pygments_lexer": "ipython3",
   "version": "3.9.12"
  }
 },
 "nbformat": 4,
 "nbformat_minor": 4
}
